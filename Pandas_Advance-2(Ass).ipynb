{
 "cells": [
  {
   "cell_type": "markdown",
   "id": "5d8323fb",
   "metadata": {},
   "source": [
    "# question 1"
   ]
  },
  {
   "cell_type": "code",
   "execution_count": 1,
   "id": "f8236bf6",
   "metadata": {},
   "outputs": [
    {
     "name": "stdout",
     "output_type": "stream",
     "text": [
      "course_name    Machine Learning\n",
      "duration                      3\n",
      "Name: 1, dtype: object\n"
     ]
    }
   ],
   "source": [
    "import pandas as pd\n",
    "\n",
    "course_name = ['Data Science', 'Machine Learning', 'Big Data', 'Data Engineer']\n",
    "duration = [2, 3, 6, 4]\n",
    "df = pd.DataFrame(data={'course_name': course_name, 'duration': duration})\n",
    "\n",
    "\n",
    "second_row_data = df.iloc[1]\n",
    "print(second_row_data)\n"
   ]
  },
  {
   "cell_type": "markdown",
   "id": "5098d274",
   "metadata": {},
   "source": [
    "# question 2"
   ]
  },
  {
   "cell_type": "code",
   "execution_count": 2,
   "id": "b8cf4f31",
   "metadata": {},
   "outputs": [],
   "source": [
    "#1. loc:-\n",
    " # 1. loc is label-based indexing. It is used to access data in a DataFrame using labels or row/column names.\n",
    " #2. It uses the actual row and column labels to perform indexing.\n",
    " #3. It's inclusive of both the start and stop labels when slicing.\n",
    "    \n",
    "    # example:-\n",
    "    # Access the value in the second row and 'duration' column\n",
    "value = df.loc[1, 'duration']\n"
   ]
  },
  {
   "cell_type": "code",
   "execution_count": 3,
   "id": "0ff5ef18",
   "metadata": {},
   "outputs": [],
   "source": [
    "# 2. iloc:-\n",
    "\n",
    " # a. iloc is integer-based indexing. It is used to access data in a DataFrame using integer indices for rows and columns.\n",
    " # b. You specify the integer position of the row and column to access the data.\n",
    " # c.It uses the implicit integer index (0-based) to perform indexing.\n",
    " #d.It's inclusive of the start index but exclusive of the stop index when slicing.\n",
    "\n",
    "# example:-\n",
    "# Access the value in the second row and second column\n",
    "value = df.iloc[1, 1]\n"
   ]
  },
  {
   "cell_type": "markdown",
   "id": "ced92b02",
   "metadata": {},
   "source": [
    "# question3"
   ]
  },
  {
   "cell_type": "code",
   "execution_count": 4,
   "id": "cc4e06ad",
   "metadata": {},
   "outputs": [
    {
     "name": "stdout",
     "output_type": "stream",
     "text": [
      "Output for new_df.loc[2]:\n",
      "column_1    0.087703\n",
      "column_2    0.921898\n",
      "column_3    0.353597\n",
      "column_4    0.929179\n",
      "column_5    0.619256\n",
      "column_6    0.738459\n",
      "Name: 2, dtype: float64\n",
      "\n",
      "Output for new_df.iloc[2]:\n",
      "column_1    0.746886\n",
      "column_2    0.040667\n",
      "column_3    0.078568\n",
      "column_4    0.870460\n",
      "column_5    0.295725\n",
      "column_6    0.954422\n",
      "Name: 1, dtype: float64\n"
     ]
    }
   ],
   "source": [
    "import pandas as pd\n",
    "import numpy as np\n",
    "\n",
    "# Original DataFrame\n",
    "columns = ['column_1', 'column_2', 'column_3', 'column_4', 'column_5', 'column_6']\n",
    "indices = [1, 2, 3, 4, 5, 6]\n",
    "df1 = pd.DataFrame(np.random.rand(6, 6), columns=columns, index=indices)\n",
    "\n",
    "# Reindexing\n",
    "reindex = [3, 0, 1, 2]\n",
    "new_df = df1.reindex(reindex)\n",
    "\n",
    "# Output for new_df.loc[2]\n",
    "output_loc = new_df.loc[2]\n",
    "\n",
    "# Output for new_df.iloc[2]\n",
    "output_iloc = new_df.iloc[2]\n",
    "\n",
    "print(\"Output for new_df.loc[2]:\")\n",
    "print(output_loc)\n",
    "print(\"\\nOutput for new_df.iloc[2]:\")\n",
    "print(output_iloc)\n",
    "\n"
   ]
  },
  {
   "cell_type": "markdown",
   "id": "4ce7af5d",
   "metadata": {},
   "source": [
    "# question 4\n"
   ]
  },
  {
   "cell_type": "code",
   "execution_count": 5,
   "id": "fb3fe99f",
   "metadata": {},
   "outputs": [
    {
     "name": "stdout",
     "output_type": "stream",
     "text": [
      "Mean of each column:\n",
      "column_1    0.615109\n",
      "column_2    0.446969\n",
      "column_3    0.501554\n",
      "column_4    0.470774\n",
      "column_5    0.454929\n",
      "column_6    0.491406\n",
      "dtype: float64\n",
      "\n",
      "Standard deviation of column 'column_2':\n",
      "0.328811166075067\n"
     ]
    }
   ],
   "source": [
    "import pandas as pd\n",
    "import numpy as np\n",
    "\n",
    "# Creating the DataFrame\n",
    "columns = ['column_1', 'column_2', 'column_3', 'column_4', 'column_5', 'column_6']\n",
    "indices = [1, 2, 3, 4, 5, 6]\n",
    "df1 = pd.DataFrame(np.random.rand(6, 6), columns=columns, index=indices)\n",
    "\n",
    "# (i) Mean of each column\n",
    "column_means = df1.mean()\n",
    "\n",
    "# (ii) Standard deviation of column 'column_2'\n",
    "std_column_2 = df1['column_2'].std()\n",
    "\n",
    "print(\"Mean of each column:\")\n",
    "print(column_means)\n",
    "\n",
    "print(\"\\nStandard deviation of column 'column_2':\")\n",
    "print(std_column_2)\n"
   ]
  },
  {
   "cell_type": "markdown",
   "id": "697aa508",
   "metadata": {},
   "source": [
    "# question 5"
   ]
  },
  {
   "cell_type": "code",
   "execution_count": 6,
   "id": "e7f396fd",
   "metadata": {},
   "outputs": [],
   "source": [
    "#import pandas as pd\n",
    "#import numpy as np\n",
    "\n",
    "# Creating the DataFrame\n",
    "#columns = ['column_1', 'column_2', 'column_3', 'column_4', 'column_5', 'column_6']\n",
    "#indices = [1, 2, 3, 4, 5, 6]\n",
    "#df1 = pd.DataFrame(np.random.rand(6, 6), columns=columns, index=indices)\n",
    "\n",
    "# Replacing data in the second row of 'column_2' with a string\n",
    "#df1.loc[2, 'column_2'] = 'string_value'\n",
    "\n",
    "# Attempting to calculate the mean of 'column_2' (will result in an error)\n",
    "#mean_column_2 = df1['column_2'].mean()\n",
    "\n",
    "#print(\"Mean of column 'column_2':\")\n",
    "#print(mean_column_2)\n"
   ]
  },
  {
   "cell_type": "markdown",
   "id": "33a6e0bd",
   "metadata": {},
   "source": [
    "# question 6"
   ]
  },
  {
   "cell_type": "code",
   "execution_count": 7,
   "id": "c83306c7",
   "metadata": {},
   "outputs": [],
   "source": [
    "# In pandas, the \"window functions\" (also known as \"rolling functions\" or \"moving functions\") are a powerful set of tools used for performing calculations over a sliding window of data in a time series or sequence. These functions are particularly useful for time-based analysis, such as calculating moving averages, rolling sums, or other aggregated statistics over a specified window of data points.\n",
    "#Some common types of window functions in pandas include:\n",
    "\n",
    "# 1. rolling(): This method is used to create a Rolling object, which can be used to apply various window functions such as mean, sum, standard deviation, etc. over a specified window size.\n",
    "\n",
    "# 2. expanding(): This method is used to create an Expanding object, which calculates statistics over all data points up to the current point. Unlike rolling(), the window size of the expanding window grows with each step.\n",
    "\n",
    "# 3. ewm(): This method is used for exponentially weighted moving statistics. It calculates moving averages or other metrics with exponentially decreasing weights over time."
   ]
  },
  {
   "cell_type": "code",
   "execution_count": 8,
   "id": "919ee3d0",
   "metadata": {},
   "outputs": [
    {
     "name": "stdout",
     "output_type": "stream",
     "text": [
      "Original DataFrame:\n",
      "   values\n",
      "0      10\n",
      "1      15\n",
      "2      20\n",
      "3      25\n",
      "4      30\n",
      "5      35\n",
      "6      40\n",
      "\n",
      "Rolling Mean:\n",
      "0     NaN\n",
      "1     NaN\n",
      "2    15.0\n",
      "3    20.0\n",
      "4    25.0\n",
      "5    30.0\n",
      "6    35.0\n",
      "Name: values, dtype: float64\n"
     ]
    }
   ],
   "source": [
    "# example:-\n",
    "import pandas as pd\n",
    "\n",
    "# Sample data\n",
    "data = {'values': [10, 15, 20, 25, 30, 35, 40]}\n",
    "df = pd.DataFrame(data)\n",
    "\n",
    "# Calculate rolling mean over a window of size 3\n",
    "rolling_mean = df['values'].rolling(window=3).mean()\n",
    "\n",
    "print(\"Original DataFrame:\")\n",
    "print(df)\n",
    "\n",
    "print(\"\\nRolling Mean:\")\n",
    "print(rolling_mean)\n"
   ]
  },
  {
   "cell_type": "markdown",
   "id": "393a01f2",
   "metadata": {},
   "source": [
    "# question 7"
   ]
  },
  {
   "cell_type": "code",
   "execution_count": 9,
   "id": "a9c2f73a",
   "metadata": {},
   "outputs": [
    {
     "name": "stdout",
     "output_type": "stream",
     "text": [
      "Current Month: 8\n",
      "Current Year: 2023\n"
     ]
    }
   ],
   "source": [
    "import pandas as pd\n",
    "\n",
    "\n",
    "current_date = pd.to_datetime('today')\n",
    "\n",
    "current_month = current_date.month\n",
    "current_year = current_date.year\n",
    "\n",
    "print(f\"Current Month: {current_month}\")\n",
    "print(f\"Current Year: {current_year}\")\n"
   ]
  },
  {
   "cell_type": "markdown",
   "id": "3336e4d5",
   "metadata": {},
   "source": [
    "# question 8"
   ]
  },
  {
   "cell_type": "code",
   "execution_count": null,
   "id": "f9918ded",
   "metadata": {},
   "outputs": [],
   "source": [
    "import pandas as pd\n",
    "\n",
    "# Function to calculate and display the time difference\n",
    "def calculate_time_difference(start_date, end_date):\n",
    "    try:\n",
    "        start = pd.to_datetime(start_date)\n",
    "        end = pd.to_datetime(end_date)\n",
    "        \n",
    "        time_difference = end - start\n",
    "        days = time_difference.days\n",
    "        hours = time_difference.seconds // 3600\n",
    "        minutes = (time_difference.seconds // 60) % 60\n",
    "        \n",
    "        print(f\"Time Difference: {days} days, {hours} hours, {minutes} minutes\")\n",
    "    except ValueError:\n",
    "        print(\"Invalid date format. Please use YYYY-MM-DD format.\")\n",
    "\n",
    "\n",
    "start_date_input = input(\"Enter the start date (YYYY-MM-DD): \")\n",
    "end_date_input = input(\"Enter the end date (YYYY-MM-DD): \")\n",
    "\n",
    "calculate_time_difference(start_date_input, end_date_input)\n"
   ]
  },
  {
   "cell_type": "markdown",
   "id": "161ba114",
   "metadata": {},
   "source": [
    "# question 9\n"
   ]
  },
  {
   "cell_type": "code",
   "execution_count": null,
   "id": "7968fad7",
   "metadata": {},
   "outputs": [],
   "source": [
    "#import pandas as pd\n",
    "\n",
    "# Function to read CSV, convert column to categorical, and display sorted data\n",
    "#def process_csv():\n",
    "    #file_path = input(\"Enter the path to the CSV file: \")\n",
    "    #column_name = input(\"Enter the column name to convert to categorical: \")\n",
    "    #category_order = input(\"Enter the desired category order (comma-separated): \").split(',')\n",
    "\n",
    "   # try:\n",
    "        # Read the CSV file\n",
    "       # df = pd.read_csv(file_path)\n",
    "        \n",
    "        # Convert specified column to categorical with the specified category order\n",
    "        #df[column_name] = pd.Categorical(df[column_name], categories=category_order, ordered=True)\n",
    "        \n",
    "       \n",
    "        #sorted_data = df.sort_values(by=[column_name])\n",
    "       # print(\"\\nSorted Data:\")\n",
    "       # print(sorted_data)\n",
    "   # except FileNotFoundError:\n",
    "       # print(\"File not found.\")\n",
    "   # except KeyError:\n",
    "       # print(\"Column not found in the CSV.\")\n",
    "    #except ValueError:\n",
    "        #print(\"Invalid category order or data in the column.\")\n",
    "\n",
    "\n",
    "#process.csv()\n"
   ]
  },
  {
   "cell_type": "markdown",
   "id": "c53697f3",
   "metadata": {},
   "source": [
    "# question 10"
   ]
  },
  {
   "cell_type": "code",
   "execution_count": null,
   "id": "91aa922b",
   "metadata": {},
   "outputs": [],
   "source": [
    "#import pandas as pd\n",
    "#import matplotlib.pyplot as plt\n",
    "\n",
    "# Function to read CSV, visualize data using a stacked bar chart, and display the chart\n",
    "#def visualize_sales():\n",
    "   # file_path = input(\"Enter the path to the CSV file: \")\n",
    "\n",
    "   # try:\n",
    "        # Read the CSV file\n",
    "       # df = pd.read_csv(file_path)\n",
    "        \n",
    "        # Assuming the CSV has columns 'Date', 'Product_Category', and 'Sales'\n",
    "        \n",
    "        # Convert 'Date' column to datetime\n",
    "        #df['Date'] = pd.to_datetime(df['Date'])\n",
    "        \n",
    "        # Pivot the data to create a DataFrame suitable for visualization\n",
    "       # pivot_df = df.pivot(index='Date', columns='Product_Category', values='Sales')\n",
    "        \n",
    "        # Plotting a stacked bar chart\n",
    "        #pivot_df.plot(kind='bar', stacked=True, figsize=(10, 6))\n",
    "        \n",
    "       # plt.title('Sales of Product Categories Over Time')\n",
    "        #plt.xlabel('Date')\n",
    "        #plt.ylabel('Sales')\n",
    "        #plt.show()\n",
    "    #except FileNotFoundError:\n",
    "       # print(\"File not found.\")\n",
    "    ##except KeyError:\n",
    "       # print(\"Required columns not found in the CSV.\")\n",
    "    #except ValueError:\n",
    "        print(\"Invalid data in the CSV.\")\n",
    "\n",
    "# Run the program\n",
    "#visualize_sales()\n"
   ]
  },
  {
   "cell_type": "markdown",
   "id": "e96b8b17",
   "metadata": {},
   "source": [
    "# question 11"
   ]
  },
  {
   "cell_type": "code",
   "execution_count": null,
   "id": "b66bfdf9",
   "metadata": {},
   "outputs": [],
   "source": [
    "\n",
    "#It looks like you've provided the code that I previously mentioned to visualize sales data using a stacked bar chart. This code is correct and should work as intended.\n",
    "\n",
    "#To use this code, make sure you have a CSV file with columns 'Date', 'Product_Category', and 'Sales'. The code reads the CSV file, converts the 'Date' column to datetime, pivots the data to create a suitable DataFrame for visualization, and then plots a stacked bar chart using the pivot_df.plot(kind='bar', stacked=True, figsize=(10, 6)) line.\n",
    "\n",
    "#Run this code in a Python environment that has the pandas and matplotlib libraries installed. It will prompt you to enter the path to the CSV file, and then it will display the stacked bar chart showing the sales of each product category over time."
   ]
  }
 ],
 "metadata": {
  "kernelspec": {
   "display_name": "Python 3 (ipykernel)",
   "language": "python",
   "name": "python3"
  },
  "language_info": {
   "codemirror_mode": {
    "name": "ipython",
    "version": 3
   },
   "file_extension": ".py",
   "mimetype": "text/x-python",
   "name": "python",
   "nbconvert_exporter": "python",
   "pygments_lexer": "ipython3",
   "version": "3.11.3"
  }
 },
 "nbformat": 4,
 "nbformat_minor": 5
}
